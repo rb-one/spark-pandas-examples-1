{
 "cells": [
  {
   "cell_type": "code",
   "execution_count": 72,
   "id": "hawaiian-stomach",
   "metadata": {},
   "outputs": [],
   "source": [
    "from pyspark import SparkContext\n",
    "from pyspark.sql import SparkSession\n",
    "from pyspark.sql.types import StructType, StructField\n",
    "from pyspark.sql.types import IntegerType, StringType, FloatType, Row\n",
    "\n",
    "from pyspark.sql import SQLContext"
   ]
  },
  {
   "cell_type": "code",
   "execution_count": 2,
   "id": "nonprofit-seeking",
   "metadata": {
    "scrolled": true
   },
   "outputs": [],
   "source": [
    "sc = SparkContext(master='local', appName=\"OlympicDataframes\")\n",
    "sqlContext = SQLContext(sc)"
   ]
  },
  {
   "cell_type": "code",
   "execution_count": 3,
   "id": "detected-tattoo",
   "metadata": {},
   "outputs": [
    {
     "data": {
      "text/html": [
       "\n",
       "        <div>\n",
       "            <p><b>SparkContext</b></p>\n",
       "\n",
       "            <p><a href=\"http://172.24.84.219:4040\">Spark UI</a></p>\n",
       "\n",
       "            <dl>\n",
       "              <dt>Version</dt>\n",
       "                <dd><code>v3.0.1</code></dd>\n",
       "              <dt>Master</dt>\n",
       "                <dd><code>local</code></dd>\n",
       "              <dt>AppName</dt>\n",
       "                <dd><code>OlympicDataframes</code></dd>\n",
       "            </dl>\n",
       "        </div>\n",
       "        "
      ],
      "text/plain": [
       "<SparkContext master=local appName=OlympicDataframes>"
      ]
     },
     "execution_count": 3,
     "metadata": {},
     "output_type": "execute_result"
    }
   ],
   "source": [
    "sc"
   ]
  },
  {
   "cell_type": "code",
   "execution_count": 4,
   "id": "friendly-credits",
   "metadata": {},
   "outputs": [
    {
     "name": "stdout",
     "output_type": "stream",
     "text": [
      "deporte.csv\t deportistaError.csv  modelo_relacional.jpg\r\n",
      "deportista2.csv  evento.csv\t      paises.csv\r\n",
      "deportista.csv\t juegos.csv\t      resultados.csv\r\n"
     ]
    }
   ],
   "source": [
    "!ls files"
   ]
  },
  {
   "cell_type": "markdown",
   "id": "chicken-russian",
   "metadata": {},
   "source": [
    "<img src='./files/modelo_relacional.jpg'>"
   ]
  },
  {
   "cell_type": "markdown",
   "id": "exposed-syndicate",
   "metadata": {},
   "source": [
    "### Dataframe from rdd"
   ]
  },
  {
   "cell_type": "code",
   "execution_count": 6,
   "id": "unsigned-sharp",
   "metadata": {},
   "outputs": [
    {
     "data": {
      "text/plain": [
       "[['deportista_id', 'nombre', 'genero', 'edad', 'altura', 'peso', 'equipo_id'],\n",
       " ['1', 'A Dijiang', '1', '24', '180', '80', '199'],\n",
       " ['2', 'A Lamusi', '1', '23', '170', '60', '199'],\n",
       " ['3', 'Gunnar Nielsen Aaby', '1', '24', '0', '0', '273'],\n",
       " ['4', 'Edgar Lindenau Aabye', '1', '34', '0', '0', '278']]"
      ]
     },
     "execution_count": 6,
     "metadata": {},
     "output_type": "execute_result"
    }
   ],
   "source": [
    "deportista_rdd = sc.textFile('files/deportista.csv')\\\n",
    "                    .map(lambda line: line.split(\",\"))\n",
    "\n",
    "deportista2_rdd = sc.textFile('files/deportista2.csv')\\\n",
    "                    .map(lambda line: line.split(\",\"))\n",
    "\n",
    "deportista_rdd += deportista2_rdd\n",
    "deportista_rdd.take(5)"
   ]
  },
  {
   "cell_type": "code",
   "execution_count": 19,
   "id": "minute-integrity",
   "metadata": {},
   "outputs": [
    {
     "data": {
      "text/plain": [
       "['deportista_id', 'nombre', 'genero', 'edad', 'altura', 'peso', 'equipo_id']"
      ]
     },
     "execution_count": 19,
     "metadata": {},
     "output_type": "execute_result"
    }
   ],
   "source": [
    "header = deportista_rdd.first()\n",
    "header"
   ]
  },
  {
   "cell_type": "code",
   "execution_count": 21,
   "id": "regulation-official",
   "metadata": {},
   "outputs": [
    {
     "data": {
      "text/plain": [
       "[['1', 'A Dijiang', '1', '24', '180', '80', '199'],\n",
       " ['2', 'A Lamusi', '1', '23', '170', '60', '199'],\n",
       " ['3', 'Gunnar Nielsen Aaby', '1', '24', '0', '0', '273'],\n",
       " ['4', 'Edgar Lindenau Aabye', '1', '34', '0', '0', '278'],\n",
       " ['5', 'Christine Jacoba Aaftink', '2', '21', '185', '82', '705']]"
      ]
     },
     "execution_count": 21,
     "metadata": {},
     "output_type": "execute_result"
    }
   ],
   "source": [
    "deportista_rdd = deportista_rdd.filter(lambda x: x != header)\n",
    "deportista_rdd.take(5)"
   ]
  },
  {
   "cell_type": "code",
   "execution_count": 42,
   "id": "active-stock",
   "metadata": {},
   "outputs": [],
   "source": [
    "# Cast types of data\n",
    "deportista_rdd = deportista_rdd.map(lambda x:\n",
    "                  (int(x[0]),\n",
    "                   x[1],\n",
    "                   int(x[2]),\n",
    "                   int(x[3]),\n",
    "                   int(x[4]),\n",
    "                   float(x[5]),\n",
    "                   int(x[6])\n",
    "                  ))\n"
   ]
  },
  {
   "cell_type": "code",
   "execution_count": 43,
   "id": "deadly-brazilian",
   "metadata": {},
   "outputs": [],
   "source": [
    "deportista_schema = StructType([\n",
    "    StructField('deportista_id', IntegerType(), False),\n",
    "    StructField('nombre', StringType(), False),\n",
    "    StructField('genero', IntegerType(), False),\n",
    "    StructField('edad', IntegerType(), False),\n",
    "    StructField('altura', IntegerType(), False),\n",
    "    StructField('peso', FloatType(), False),\n",
    "    StructField('equipo_id', IntegerType(), False),\n",
    "])"
   ]
  },
  {
   "cell_type": "code",
   "execution_count": 44,
   "id": "indian-lingerie",
   "metadata": {},
   "outputs": [],
   "source": [
    "deportista_df = sqlContext.createDataFrame(deportista_rdd, deportista_schema)"
   ]
  },
  {
   "cell_type": "code",
   "execution_count": 58,
   "id": "organized-rapid",
   "metadata": {},
   "outputs": [
    {
     "name": "stdout",
     "output_type": "stream",
     "text": [
      "+-------------+--------------------+------+----+------+----+---------+\n",
      "|deportista_id|              nombre|genero|edad|altura|peso|equipo_id|\n",
      "+-------------+--------------------+------+----+------+----+---------+\n",
      "|            1|           A Dijiang|     1|  24|   180|80.0|      199|\n",
      "|            2|            A Lamusi|     1|  23|   170|60.0|      199|\n",
      "|            3| Gunnar Nielsen Aaby|     1|  24|     0| 0.0|      273|\n",
      "|            4|Edgar Lindenau Aabye|     1|  34|     0| 0.0|      278|\n",
      "+-------------+--------------------+------+----+------+----+---------+\n",
      "only showing top 4 rows\n",
      "\n"
     ]
    }
   ],
   "source": [
    "deportista_df.show(4)"
   ]
  },
  {
   "cell_type": "markdown",
   "id": "reported-minute",
   "metadata": {},
   "source": [
    "### equipos"
   ]
  },
  {
   "cell_type": "code",
   "execution_count": 59,
   "id": "strategic-stock",
   "metadata": {},
   "outputs": [],
   "source": [
    "equipos_schema = StructType([\n",
    "    StructField('equipo_id', IntegerType(), False),\n",
    "    StructField('sigla', StringType(), False),\n",
    "    StructField('descripcion', StringType(), False),\n",
    "])"
   ]
  },
  {
   "cell_type": "code",
   "execution_count": 60,
   "id": "enhanced-smith",
   "metadata": {},
   "outputs": [],
   "source": [
    "equipos_df = sqlContext.read.schema(equipos_schema) \\\n",
    "                .option('header', 'true').csv('files/paises.csv')"
   ]
  },
  {
   "cell_type": "code",
   "execution_count": 61,
   "id": "checked-habitat",
   "metadata": {},
   "outputs": [
    {
     "name": "stdout",
     "output_type": "stream",
     "text": [
      "+---------+--------------------+-----------+\n",
      "|equipo_id|               sigla|descripcion|\n",
      "+---------+--------------------+-----------+\n",
      "|        1|         30. Februar|        AUT|\n",
      "|        2|A North American ...|        MEX|\n",
      "|        3|           Acipactli|        MEX|\n",
      "|        4|             Acturus|        ARG|\n",
      "|        5|         Afghanistan|        AFG|\n",
      "+---------+--------------------+-----------+\n",
      "only showing top 5 rows\n",
      "\n"
     ]
    }
   ],
   "source": [
    "equipos_df.show(5)"
   ]
  },
  {
   "cell_type": "markdown",
   "id": "bronze-contractor",
   "metadata": {},
   "source": [
    "### medallas"
   ]
  },
  {
   "cell_type": "code",
   "execution_count": 62,
   "id": "copyrighted-fellowship",
   "metadata": {},
   "outputs": [],
   "source": [
    "medallas_schema = StructType([\n",
    "    StructField('resultado_id', IntegerType(), False),\n",
    "    StructField('medalla', StringType(), False),\n",
    "    StructField('deportista_id', IntegerType(), False),\n",
    "    StructField('juego_id', IntegerType(), False),\n",
    "    StructField('evento_id', IntegerType(), False),\n",
    "])"
   ]
  },
  {
   "cell_type": "code",
   "execution_count": 63,
   "id": "earlier-assurance",
   "metadata": {},
   "outputs": [],
   "source": [
    "medallas_df = sqlContext.read.schema(medallas_schema) \\\n",
    "                .option('header', 'true').csv('files/resultados.csv')"
   ]
  },
  {
   "cell_type": "code",
   "execution_count": 58,
   "id": "raising-storm",
   "metadata": {},
   "outputs": [
    {
     "name": "stdout",
     "output_type": "stream",
     "text": [
      "+------------+-------+-------------+--------+---------+\n",
      "|resultado_id|medalla|deportista_id|juego_id|evento_id|\n",
      "+------------+-------+-------------+--------+---------+\n",
      "|           1|     NA|            1|      39|        1|\n",
      "|           2|     NA|            2|      49|        2|\n",
      "|           3|     NA|            3|       7|        3|\n",
      "|           4|   Gold|            4|       2|        4|\n",
      "|           5|     NA|            5|      36|        5|\n",
      "+------------+-------+-------------+--------+---------+\n",
      "only showing top 5 rows\n",
      "\n"
     ]
    }
   ],
   "source": [
    "medallas_df.show(5)"
   ]
  },
  {
   "cell_type": "markdown",
   "id": "cubic-safety",
   "metadata": {},
   "source": [
    "### Schemas"
   ]
  },
  {
   "cell_type": "code",
   "execution_count": 59,
   "id": "increased-count",
   "metadata": {},
   "outputs": [
    {
     "name": "stdout",
     "output_type": "stream",
     "text": [
      "root\n",
      " |-- deportista_id: integer (nullable = false)\n",
      " |-- nombre: string (nullable = false)\n",
      " |-- genero: integer (nullable = false)\n",
      " |-- edad: integer (nullable = false)\n",
      " |-- altura: integer (nullable = false)\n",
      " |-- peso: float (nullable = false)\n",
      " |-- equipo_id: integer (nullable = false)\n",
      "\n"
     ]
    }
   ],
   "source": [
    "deportista_df.printSchema()"
   ]
  },
  {
   "cell_type": "code",
   "execution_count": 60,
   "id": "demonstrated-merchant",
   "metadata": {},
   "outputs": [
    {
     "name": "stdout",
     "output_type": "stream",
     "text": [
      "root\n",
      " |-- equipo_id: integer (nullable = true)\n",
      " |-- sigla: string (nullable = true)\n",
      " |-- descripcion: string (nullable = true)\n",
      "\n"
     ]
    }
   ],
   "source": [
    "equipos_df.printSchema()"
   ]
  },
  {
   "cell_type": "code",
   "execution_count": 61,
   "id": "greater-cleanup",
   "metadata": {},
   "outputs": [
    {
     "name": "stdout",
     "output_type": "stream",
     "text": [
      "root\n",
      " |-- resultado_id: integer (nullable = true)\n",
      " |-- medalla: string (nullable = true)\n",
      " |-- deportista_id: integer (nullable = true)\n",
      " |-- juego_id: integer (nullable = true)\n",
      " |-- evento_id: integer (nullable = true)\n",
      "\n"
     ]
    }
   ],
   "source": [
    "medallas_df.printSchema()"
   ]
  },
  {
   "cell_type": "markdown",
   "id": "renewable-sunset",
   "metadata": {},
   "source": [
    "## Respondiendo Preguntas"
   ]
  },
  {
   "cell_type": "markdown",
   "id": "characteristic-denmark",
   "metadata": {},
   "source": [
    "### Cantidad de Deportistas\n"
   ]
  },
  {
   "cell_type": "code",
   "execution_count": 86,
   "id": "efficient-mayor",
   "metadata": {},
   "outputs": [],
   "source": [
    "from pyspark.sql import functions as f\n",
    "import matplotlib.pyplot as plt  \n"
   ]
  },
  {
   "cell_type": "code",
   "execution_count": 65,
   "id": "metric-sunrise",
   "metadata": {},
   "outputs": [
    {
     "data": {
      "text/plain": [
       "135571"
      ]
     },
     "execution_count": 65,
     "metadata": {},
     "output_type": "execute_result"
    }
   ],
   "source": [
    "deportista_df.count()"
   ]
  },
  {
   "cell_type": "markdown",
   "id": "registered-county",
   "metadata": {},
   "source": [
    "### Rango de Edades top 10"
   ]
  },
  {
   "cell_type": "code",
   "execution_count": 90,
   "id": "individual-running",
   "metadata": {},
   "outputs": [
    {
     "name": "stdout",
     "output_type": "stream",
     "text": [
      "+----+-----+\n",
      "|edad|count|\n",
      "+----+-----+\n",
      "|  22|12981|\n",
      "|  23|12942|\n",
      "|  21|12045|\n",
      "|  24|11777|\n",
      "|  25|10084|\n",
      "|  20| 9541|\n",
      "|  26| 8533|\n",
      "|  19| 7061|\n",
      "|  27| 7019|\n",
      "|   0| 6368|\n",
      "+----+-----+\n",
      "only showing top 10 rows\n",
      "\n"
     ]
    }
   ],
   "source": [
    "edades_deportistas = deportista_df.groupBy('edad').count()\n",
    "\n",
    "# Show ordered deportistas\n",
    "edades_deportistas.sort(f.col('count').desc()).show(10)"
   ]
  },
  {
   "cell_type": "code",
   "execution_count": 136,
   "id": "disabled-pledge",
   "metadata": {},
   "outputs": [
    {
     "data": {
      "text/plain": [
       "<BarContainer object of 74 artists>"
      ]
     },
     "execution_count": 136,
     "metadata": {},
     "output_type": "execute_result"
    },
    {
     "data": {
      "image/png": "[encoded data removed]",
      "text/plain": [
       "<Figure size 720x360 with 1 Axes>"
      ]
     },
     "metadata": {
      "needs_background": "light"
     },
     "output_type": "display_data"
    }
   ],
   "source": [
    "fig = plt.figure(figsize = (10, 5)) \n",
    "plt.bar(edades_deportistas.toPandas()['edad'], edades_deportistas.toPandas()['count'], color ='blue',  \n",
    "        width = 0.4) "
   ]
  },
  {
   "cell_type": "markdown",
   "id": "acquired-editing",
   "metadata": {},
   "source": [
    "### Distribucion Genero\n"
   ]
  },
  {
   "cell_type": "code",
   "execution_count": 162,
   "id": "rural-wildlife",
   "metadata": {},
   "outputs": [
    {
     "name": "stdout",
     "output_type": "stream",
     "text": [
      "+------+------+\n",
      "|genero| count|\n",
      "+------+------+\n",
      "|     1|101590|\n",
      "|     2| 33981|\n",
      "+------+------+\n",
      "\n"
     ]
    }
   ],
   "source": [
    "genero_deportistas = deportista_df.groupBy('genero').count()\n",
    "\n",
    "genero_deportistas.show()"
   ]
  },
  {
   "cell_type": "code",
   "execution_count": 177,
   "id": "sharp-royal",
   "metadata": {},
   "outputs": [
    {
     "data": {
      "text/html": [
       "<div>\n",
       "<style scoped>\n",
       "    .dataframe tbody tr th:only-of-type {\n",
       "        vertical-align: middle;\n",
       "    }\n",
       "\n",
       "    .dataframe tbody tr th {\n",
       "        vertical-align: top;\n",
       "    }\n",
       "\n",
       "    .dataframe thead th {\n",
       "        text-align: right;\n",
       "    }\n",
       "</style>\n",
       "<table border=\"1\" class=\"dataframe\">\n",
       "  <thead>\n",
       "    <tr style=\"text-align: right;\">\n",
       "      <th></th>\n",
       "      <th>genero</th>\n",
       "      <th>count</th>\n",
       "    </tr>\n",
       "  </thead>\n",
       "  <tbody>\n",
       "    <tr>\n",
       "      <th>0</th>\n",
       "      <td>1</td>\n",
       "      <td>101590</td>\n",
       "    </tr>\n",
       "    <tr>\n",
       "      <th>1</th>\n",
       "      <td>2</td>\n",
       "      <td>33981</td>\n",
       "    </tr>\n",
       "  </tbody>\n",
       "</table>\n",
       "</div>"
      ],
      "text/plain": [
       "   genero   count\n",
       "0       1  101590\n",
       "1       2   33981"
      ]
     },
     "execution_count": 177,
     "metadata": {},
     "output_type": "execute_result"
    }
   ],
   "source": [
    "genero_deportistas.toPandas()"
   ]
  },
  {
   "cell_type": "code",
   "execution_count": 178,
   "id": "behavioral-blank",
   "metadata": {},
   "outputs": [
    {
     "data": {
      "image/png": "[encoded data removed]",
      "text/plain": [
       "<Figure size 432x288 with 1 Axes>"
      ]
     },
     "metadata": {},
     "output_type": "display_data"
    }
   ],
   "source": [
    "fig1, ax1 = plt.subplots()\n",
    "\n",
    "labels = 'Genero1', 'genero2'\n",
    "explode = (0, 0.1) \n",
    "\n",
    "ax1.pie(genero_deportistas.toPandas()['count'], explode=explode, labels=labels, autopct='%1.1f%%',\n",
    "        shadow=True, startangle=90)\n",
    "ax1.axis('equal')  # Equal aspect ratio ensures that pie is drawn as a circle.\n",
    "\n",
    "plt.show()"
   ]
  },
  {
   "cell_type": "markdown",
   "id": "ceramic-shuttle",
   "metadata": {},
   "source": [
    "### Cantidad de participantes por Pais"
   ]
  },
  {
   "cell_type": "code",
   "execution_count": 189,
   "id": "damaged-sample",
   "metadata": {},
   "outputs": [
    {
     "name": "stdout",
     "output_type": "stream",
     "text": [
      "+-------------+--------------------+------+----+------+----+---------+---------+--------------+-----------+\n",
      "|deportista_id|              nombre|genero|edad|altura|peso|equipo_id|equipo_id|         sigla|descripcion|\n",
      "+-------------+--------------------+------+----+------+----+---------+---------+--------------+-----------+\n",
      "|            1|           A Dijiang|     1|  24|   180|80.0|      199|      199|         China|        CHN|\n",
      "|            2|            A Lamusi|     1|  23|   170|60.0|      199|      199|         China|        CHN|\n",
      "|            3| Gunnar Nielsen Aaby|     1|  24|     0| 0.0|      273|      273|       Denmark|        DEN|\n",
      "|            4|Edgar Lindenau Aabye|     1|  34|     0| 0.0|      278|      278|Denmark/Sweden|        SWE|\n",
      "|            5|Christine Jacoba ...|     2|  21|   185|82.0|      705|      705|   Netherlands|        NED|\n",
      "|            6|     Per Knut Aaland|     1|  31|   188|75.0|     1096|     1096| United States|        USA|\n",
      "|            7|        John Aalberg|     1|  31|   183|72.0|     1096|     1096| United States|        USA|\n",
      "|            8|Cornelia Cor Aalt...|     2|  18|   168| 0.0|      705|      705|   Netherlands|        NED|\n",
      "|            9|    Antti Sami Aalto|     1|  26|   186|96.0|      350|      350|       Finland|        FIN|\n",
      "|           10|Einar Ferdinand E...|     1|  26|     0| 0.0|      350|      350|       Finland|        FIN|\n",
      "+-------------+--------------------+------+----+------+----+---------+---------+--------------+-----------+\n",
      "only showing top 10 rows\n",
      "\n"
     ]
    }
   ],
   "source": [
    "deportiasta_pais_df = deportista_df.join(\n",
    "        equipos_df, \n",
    "        deportista_df.equipo_id == equipos_df.equipo_id,\n",
    "        'left'\n",
    "        )\n",
    "\n",
    "deportiasta_pais_df.show(10)"
   ]
  },
  {
   "cell_type": "code",
   "execution_count": 212,
   "id": "pleasant-fundamental",
   "metadata": {},
   "outputs": [],
   "source": [
    "top_ten_paises = deportiasta_pais_df\\\n",
    "                .groupBy('descripcion') \\\n",
    "                .count() \\\n",
    "                .sort(f.col('count').desc())"
   ]
  },
  {
   "cell_type": "code",
   "execution_count": 213,
   "id": "abandoned-optimum",
   "metadata": {},
   "outputs": [
    {
     "name": "stdout",
     "output_type": "stream",
     "text": [
      "+-----------+-----+\n",
      "|descripcion|count|\n",
      "+-----------+-----+\n",
      "|        USA| 9621|\n",
      "|        GBR| 6244|\n",
      "|        FRA| 6161|\n",
      "|        ITA| 4918|\n",
      "|        CAN| 4789|\n",
      "|        GER| 4612|\n",
      "|        JPN| 4066|\n",
      "|        AUS| 3799|\n",
      "|        SWE| 3790|\n",
      "|        POL| 2966|\n",
      "+-----------+-----+\n",
      "only showing top 10 rows\n",
      "\n"
     ]
    }
   ],
   "source": [
    "top_ten_paises.show(10)"
   ]
  },
  {
   "cell_type": "code",
   "execution_count": 47,
   "id": "interim-hands",
   "metadata": {},
   "outputs": [],
   "source": [
    "deportistas_paises_df = top_ten_paises.toPandas()"
   ]
  },
  {
   "cell_type": "code",
   "execution_count": 48,
   "id": "light-entity",
   "metadata": {},
   "outputs": [
    {
     "data": {
      "image/png": "[encoded data removed]",
      "text/plain": [
       "<Figure size 720x504 with 1 Axes>"
      ]
     },
     "metadata": {
      "needs_background": "light"
     },
     "output_type": "display_data"
    }
   ],
   "source": [
    "pais = deportistas_paises_df['descripcion']\n",
    "cantidad = deportistas_paises_df['count']\n",
    "  \n",
    "# Figure Size \n",
    "fig = plt.figure(figsize =(10, 7)) \n",
    "  \n",
    "# Horizontal Bar Plot \n",
    "plt.bar(pais[0:10], cantidad[0:10]) \n",
    "  \n",
    "# Show Plot \n",
    "plt.show() "
   ]
  },
  {
   "cell_type": "markdown",
   "id": "formed-penetration",
   "metadata": {},
   "source": [
    "### Top 20 deportistas mas medallas"
   ]
  },
  {
   "cell_type": "code",
   "execution_count": 51,
   "id": "associate-equipment",
   "metadata": {},
   "outputs": [
    {
     "name": "stdout",
     "output_type": "stream",
     "text": [
      "+-------------+-----+\n",
      "|deportista_id|count|\n",
      "+-------------+-----+\n",
      "|        94406|   28|\n",
      "|        67046|   18|\n",
      "|         4198|   15|\n",
      "|        74420|   13|\n",
      "|        89187|   13|\n",
      "|       109161|   13|\n",
      "|        11951|   13|\n",
      "|        70965|   12|\n",
      "|        57998|   12|\n",
      "|        23426|   12|\n",
      "|       119922|   12|\n",
      "|        85286|   12|\n",
      "|        35550|   12|\n",
      "|        87390|   12|\n",
      "|       121258|   12|\n",
      "|        89706|   11|\n",
      "|        11642|   11|\n",
      "|       113912|   11|\n",
      "|        21402|   11|\n",
      "|        18826|   11|\n",
      "+-------------+-----+\n",
      "only showing top 20 rows\n",
      "\n"
     ]
    }
   ],
   "source": [
    "total_medals_df = medallas_df.filter(medallas_df.medalla != \"NA\")\\\n",
    "    .groupby('deportista_id').count()\\\n",
    "    .sort(f.col('count').desc())\n",
    "\n",
    "total_medals_df.show()"
   ]
  },
  {
   "cell_type": "code",
   "execution_count": 69,
   "id": "revolutionary-contact",
   "metadata": {},
   "outputs": [
    {
     "name": "stdout",
     "output_type": "stream",
     "text": [
      "+-------------+--------------------+------+----+------+----+---------+-------------+-----+\n",
      "|deportista_id|              nombre|genero|edad|altura|peso|equipo_id|deportista_id|count|\n",
      "+-------------+--------------------+------+----+------+----+---------+-------------+-----+\n",
      "|        94406| Michael Fred Phelps|     1|  15|   193|91.0|     1096|        94406|   28|\n",
      "|        67046|Larysa Semenivna ...|     2|  21|   161|52.0|      978|        67046|   18|\n",
      "|         4198|Nikolay Yefimovic...|     1|  19|   166|60.0|      978|         4198|   15|\n",
      "|       109161|Borys Anfiyanovyc...|     1|  24|   171|71.0|      978|       109161|   13|\n",
      "|        89187|         Takashi Ono|     1|  20|   160|58.0|      514|        89187|   13|\n",
      "|        74420| Edoardo Mangiarotti|     1|  17|     0| 0.0|      507|        74420|   13|\n",
      "|        11951| Ole Einar Bjrndalen|     1|  20|   178|65.0|      742|        11951|   13|\n",
      "|        23426|Natalie Anne Coug...|     2|  21|   173|63.0|     1096|        23426|   12|\n",
      "|        57998|          Sawao Kato|     1|  22|   163|59.0|      514|        57998|   12|\n",
      "|        87390|Paavo Johannes Nurmi|     1|  22|   174|65.0|      350|        87390|   12|\n",
      "|        85286|Aleksey Yuryevich...|     1|  20|   174|75.0|      874|        85286|   12|\n",
      "|       121258|Dara Grace Torres...|     2|  17|   183|68.0|     1096|       121258|   12|\n",
      "|       119922|Jennifer Elisabet...|     2|  19|   177|69.0|     1096|       119922|   12|\n",
      "|        35550|Birgit FischerSch...|     2|  18|   172|69.0|      302|        35550|   12|\n",
      "|        70965|  Ryan Steven Lochte|     1|  20|   188|88.0|     1096|        70965|   12|\n",
      "|        11642|Matthew Nicholas ...|     1|  18|   200|95.0|     1096|        11642|   11|\n",
      "|        21402|Viktor Ivanovych ...|     1|  30|     0| 0.0|      978|        21402|   11|\n",
      "|        18826|Vra slavsk Odloilov |     2|  18|   160|58.0|      259|        18826|   11|\n",
      "|       113912|   Mark Andrew Spitz|     1|  18|   183|73.0|     1096|       113912|   11|\n",
      "|        89706|Carl Townsend Osburn|     1|  28|   180| 0.0|     1096|        89706|   11|\n",
      "+-------------+--------------------+------+----+------+----+---------+-------------+-----+\n",
      "only showing top 20 rows\n",
      "\n"
     ]
    }
   ],
   "source": [
    "deportista_medallas = deportista_df.join(\n",
    "    total_medals_df,\n",
    "    deportista_df.deportista_id == total_medals_df.deportista_id\n",
    "    ).sort(f.col('count').desc())\n",
    "\n",
    "deportista_medallas.show(20)"
   ]
  },
  {
   "cell_type": "markdown",
   "id": "intelligent-classics",
   "metadata": {},
   "source": [
    "### Medallas por pais top 20"
   ]
  },
  {
   "cell_type": "code",
   "execution_count": 90,
   "id": "square-posting",
   "metadata": {},
   "outputs": [],
   "source": [
    "top_medals = deportista_medallas.join(\n",
    "    equipos_df,\n",
    "    deportista_medallas.equipo_id == equipos_df.equipo_id\n",
    ")"
   ]
  },
  {
   "cell_type": "code",
   "execution_count": 89,
   "id": "australian-nylon",
   "metadata": {},
   "outputs": [
    {
     "name": "stdout",
     "output_type": "stream",
     "text": [
      "+-----------+----------------+\n",
      "|descripcion|medallas totales|\n",
      "+-----------+----------------+\n",
      "|        USA|            5643|\n",
      "|        URS|            2660|\n",
      "|        GBR|            2045|\n",
      "|        GER|            2045|\n",
      "|        FRA|            1785|\n",
      "|        ITA|            1627|\n",
      "|        SWE|            1537|\n",
      "|        CAN|            1347|\n",
      "|        AUS|            1314|\n",
      "|        HUN|            1131|\n",
      "|        GDR|            1084|\n",
      "|        NED|            1039|\n",
      "|        NOR|            1033|\n",
      "|        RUS|            1003|\n",
      "|        CHN|             991|\n",
      "|        JPN|             913|\n",
      "|        FIN|             900|\n",
      "|        SUI|             690|\n",
      "|        ROU|             658|\n",
      "|        KOR|             642|\n",
      "+-----------+----------------+\n",
      "only showing top 20 rows\n",
      "\n"
     ]
    }
   ],
   "source": [
    "top_medals.groupBy('descripcion').sum('count') \\\n",
    "    .withColumnRenamed('sum(count)', 'medallas totales') \\\n",
    "    .sort(f.col('medallas totales').desc()).show()"
   ]
  }
 ],
 "metadata": {
  "kernelspec": {
   "display_name": "Python 3",
   "language": "python",
   "name": "python3"
  },
  "language_info": {
   "codemirror_mode": {
    "name": "ipython",
    "version": 3
   },
   "file_extension": ".py",
   "mimetype": "text/x-python",
   "name": "python",
   "nbconvert_exporter": "python",
   "pygments_lexer": "ipython3",
   "version": "3.7.3"
  }
 },
 "nbformat": 4,
 "nbformat_minor": 5
}
