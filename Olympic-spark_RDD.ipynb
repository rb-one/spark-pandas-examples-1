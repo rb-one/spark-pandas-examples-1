{
 "cells": [
  {
   "cell_type": "code",
   "execution_count": 1,
   "id": "hawaiian-stomach",
   "metadata": {},
   "outputs": [],
   "source": [
    "from pyspark import SparkContext\n",
    "import matplotlib.pyplot as plt  "
   ]
  },
  {
   "cell_type": "code",
   "execution_count": 2,
   "id": "nonprofit-seeking",
   "metadata": {},
   "outputs": [],
   "source": [
    "sc = SparkContext(master='local', appName=\"Olympic\")"
   ]
  },
  {
   "cell_type": "code",
   "execution_count": 3,
   "id": "conscious-auditor",
   "metadata": {},
   "outputs": [
    {
     "name": "stdout",
     "output_type": "stream",
     "text": [
      "deporte.csv\t deportistaError.csv  modelo_relacional.jpg\r\n",
      "deportista2.csv  evento.csv\t      paises.csv\r\n",
      "deportista.csv\t juegos.csv\t      resultados.csv\r\n"
     ]
    }
   ],
   "source": [
    "!ls files"
   ]
  },
  {
   "cell_type": "markdown",
   "id": "nervous-satisfaction",
   "metadata": {},
   "source": [
    "<img src='./files/modelo_relacional.jpg'>"
   ]
  },
  {
   "cell_type": "markdown",
   "id": "requested-separation",
   "metadata": {},
   "source": [
    "### Deportistas"
   ]
  },
  {
   "cell_type": "code",
   "execution_count": 4,
   "id": "after-cheese",
   "metadata": {},
   "outputs": [],
   "source": [
    "deportista_rdd = sc.textFile('files/deportista.csv')\\\n",
    "                    .map(lambda line: line.split(\",\"))\n",
    "\n",
    "deportista2_rdd = sc.textFile('files/deportista2.csv')\\\n",
    "                    .map(lambda line: line.split(\",\"))\n",
    "\n",
    "deportista_rdd += deportista2_rdd"
   ]
  },
  {
   "cell_type": "code",
   "execution_count": 5,
   "id": "laden-camel",
   "metadata": {},
   "outputs": [
    {
     "data": {
      "text/plain": [
       "[['deportista_id', 'nombre', 'genero', 'edad', 'altura', 'peso', 'equipo_id'],\n",
       " ['1', 'A Dijiang', '1', '24', '180', '80', '199'],\n",
       " ['2', 'A Lamusi', '1', '23', '170', '60', '199'],\n",
       " ['3', 'Gunnar Nielsen Aaby', '1', '24', '0', '0', '273'],\n",
       " ['4', 'Edgar Lindenau Aabye', '1', '34', '0', '0', '278']]"
      ]
     },
     "execution_count": 5,
     "metadata": {},
     "output_type": "execute_result"
    }
   ],
   "source": [
    "deportista_rdd.take(5)"
   ]
  },
  {
   "cell_type": "markdown",
   "id": "demographic-equity",
   "metadata": {},
   "source": [
    "### Equipos"
   ]
  },
  {
   "cell_type": "code",
   "execution_count": 6,
   "id": "expressed-addition",
   "metadata": {},
   "outputs": [
    {
     "data": {
      "text/plain": [
       "[['id', 'equipo', 'sigla'],\n",
       " ['1', '30. Februar', 'AUT'],\n",
       " ['2', 'A North American Team', 'MEX'],\n",
       " ['3', 'Acipactli', 'MEX'],\n",
       " ['4', 'Acturus', 'ARG']]"
      ]
     },
     "execution_count": 6,
     "metadata": {},
     "output_type": "execute_result"
    }
   ],
   "source": [
    "equipo_rdd = sc.textFile('files/paises.csv')\\\n",
    "                    .map(lambda line: line.split(\",\"))\n",
    "\n",
    "equipo_rdd.take(5)"
   ]
  },
  {
   "cell_type": "markdown",
   "id": "liquid-illustration",
   "metadata": {},
   "source": [
    "### Resultados"
   ]
  },
  {
   "cell_type": "code",
   "execution_count": 7,
   "id": "structured-threat",
   "metadata": {},
   "outputs": [
    {
     "data": {
      "text/plain": [
       "[['resultado_id', 'medalla', 'deportista_id', 'juego_id', 'evento_id'],\n",
       " ['1', 'NA', '1', '39', '1'],\n",
       " ['2', 'NA', '2', '49', '2'],\n",
       " ['3', 'NA', '3', '7', '3'],\n",
       " ['4', 'Gold', '4', '2', '4']]"
      ]
     },
     "execution_count": 7,
     "metadata": {},
     "output_type": "execute_result"
    }
   ],
   "source": [
    "resultados_rdd = sc.textFile('files/resultados.csv')\\\n",
    "                    .map(lambda line: line.split(\",\"))\n",
    "\n",
    "resultados_rdd.take(5)"
   ]
  },
  {
   "cell_type": "markdown",
   "id": "moral-guatemala",
   "metadata": {},
   "source": [
    "## Respondiendo Preguntas"
   ]
  },
  {
   "cell_type": "markdown",
   "id": "compressed-forward",
   "metadata": {},
   "source": [
    "### Cantidad de Deportistas"
   ]
  },
  {
   "cell_type": "code",
   "execution_count": 8,
   "id": "august-wonder",
   "metadata": {},
   "outputs": [
    {
     "data": {
      "text/plain": [
       "135571"
      ]
     },
     "execution_count": 8,
     "metadata": {},
     "output_type": "execute_result"
    }
   ],
   "source": [
    "deportista_rdd.count()-1"
   ]
  },
  {
   "cell_type": "markdown",
   "id": "obvious-reader",
   "metadata": {},
   "source": [
    "### Rango de Edades top 10\n"
   ]
  },
  {
   "cell_type": "code",
   "execution_count": 9,
   "id": "atomic-works",
   "metadata": {},
   "outputs": [
    {
     "data": {
      "text/plain": [
       "[('22', 12981),\n",
       " ('23', 12942),\n",
       " ('21', 12045),\n",
       " ('24', 11777),\n",
       " ('25', 10084),\n",
       " ('20', 9541),\n",
       " ('26', 8533),\n",
       " ('19', 7061),\n",
       " ('27', 7019),\n",
       " ('0', 6368)]"
      ]
     },
     "execution_count": 9,
     "metadata": {},
     "output_type": "execute_result"
    }
   ],
   "source": [
    "edades_deportistas = deportista_rdd.map(lambda x: [x[3], x[0]]) \\\n",
    "                        .groupByKey()\\\n",
    "                        .mapValues(len)\\\n",
    "                        .sortByKey()\\\n",
    "                        .collect()\n",
    "\n",
    "sorted(edades_deportistas, key=lambda x: -x[1])[:10]"
   ]
  },
  {
   "cell_type": "code",
   "execution_count": 10,
   "id": "failing-bonus",
   "metadata": {},
   "outputs": [
    {
     "data": {
      "text/plain": [
       "<BarContainer object of 75 artists>"
      ]
     },
     "execution_count": 10,
     "metadata": {},
     "output_type": "execute_result"
    },
    {
     "data": {
      "image/png": "[encoded data removed]",
      "text/plain": [
       "<Figure size 720x360 with 1 Axes>"
      ]
     },
     "metadata": {
      "needs_background": "light"
     },
     "output_type": "display_data"
    }
   ],
   "source": [
    "edad = [data[0] for data in edades_deportistas]\n",
    "valor = [data[1] for data in edades_deportistas]\n",
    "\n",
    "fig = plt.figure(figsize = (10, 5)) \n",
    "plt.bar(edad, valor, color ='blue',  \n",
    "        width = 0.4) "
   ]
  },
  {
   "cell_type": "markdown",
   "id": "agricultural-parent",
   "metadata": {},
   "source": [
    "### Distribucion Sexo\n"
   ]
  },
  {
   "cell_type": "code",
   "execution_count": 11,
   "id": "sixth-training",
   "metadata": {},
   "outputs": [],
   "source": [
    "generos = list(deportista_rdd.map(lambda x: x[2]).countByValue().items())[1:]"
   ]
  },
  {
   "cell_type": "code",
   "execution_count": 12,
   "id": "solved-penetration",
   "metadata": {},
   "outputs": [
    {
     "data": {
      "text/plain": [
       "[101590, 33981]"
      ]
     },
     "execution_count": 12,
     "metadata": {},
     "output_type": "execute_result"
    }
   ],
   "source": [
    "[data[1] for data in generos]"
   ]
  },
  {
   "cell_type": "code",
   "execution_count": 13,
   "id": "closed-directive",
   "metadata": {},
   "outputs": [
    {
     "data": {
      "image/png": "[encoded data removed]",
      "text/plain": [
       "<Figure size 432x288 with 1 Axes>"
      ]
     },
     "metadata": {},
     "output_type": "display_data"
    }
   ],
   "source": [
    "fig1, ax1 = plt.subplots()\n",
    "\n",
    "labels = 'Genero1', 'genero2'\n",
    "genres = [data[1] for data in generos]\n",
    "explode = (0, 0.1) \n",
    "\n",
    "ax1.pie(genres, explode=explode, labels=labels, autopct='%1.1f%%',\n",
    "        shadow=True, startangle=90)\n",
    "ax1.axis('equal')  # Equal aspect ratio ensures that pie is drawn as a circle.\n",
    "\n",
    "plt.show()"
   ]
  },
  {
   "cell_type": "markdown",
   "id": "latest-progress",
   "metadata": {},
   "source": [
    "### Cantidad de participantes por Pais"
   ]
  },
  {
   "cell_type": "code",
   "execution_count": 19,
   "id": "twelve-timothy",
   "metadata": {},
   "outputs": [
    {
     "data": {
      "text/plain": [
       "[('USA', 9621),\n",
       " ('GBR', 6244),\n",
       " ('FRA', 6161),\n",
       " ('ITA', 4918),\n",
       " ('CAN', 4789),\n",
       " ('GER', 4612),\n",
       " ('JPN', 4066),\n",
       " ('AUS', 3799),\n",
       " ('SWE', 3790),\n",
       " ('POL', 2966)]"
      ]
     },
     "execution_count": 19,
     "metadata": {},
     "output_type": "execute_result"
    }
   ],
   "source": [
    "deportistas_paises = deportistas_paises_rdd.groupByKey() \\\n",
    "                        .mapValues(len)\\\n",
    "                        .sortBy(lambda x: -x[1])\\\n",
    "                        .take(10)\n",
    "\n",
    "deportistas_paises"
   ]
  },
  {
   "cell_type": "code",
   "execution_count": 21,
   "id": "amended-scottish",
   "metadata": {},
   "outputs": [
    {
     "data": {
      "image/png": "[encoded data removed]",
      "text/plain": [
       "<Figure size 720x504 with 1 Axes>"
      ]
     },
     "metadata": {
      "needs_background": "light"
     },
     "output_type": "display_data"
    }
   ],
   "source": [
    "pais = [data[0] for data in deportistas_paises]\n",
    "cantidad = [data[1] for data in deportistas_paises]\n",
    "  \n",
    "# Figure Size \n",
    "fig = plt.figure(figsize =(10, 7)) \n",
    "  \n",
    "# Horizontal Bar Plot \n",
    "plt.bar(pais[0:10], cantidad[0:10]) \n",
    "  \n",
    "# Show Plot \n",
    "plt.show() "
   ]
  },
  {
   "cell_type": "markdown",
   "id": "demanding-dodge",
   "metadata": {},
   "source": [
    "### Top 20 deportistas mas medallas\n"
   ]
  },
  {
   "cell_type": "code",
   "execution_count": 26,
   "id": "featured-christopher",
   "metadata": {},
   "outputs": [
    {
     "data": {
      "text/plain": [
       "[['4', 'Gold'],\n",
       " ['15', 'Bronze'],\n",
       " ['15', 'Bronze'],\n",
       " ['16', 'Bronze'],\n",
       " ['17', 'Bronze']]"
      ]
     },
     "execution_count": 26,
     "metadata": {},
     "output_type": "execute_result"
    }
   ],
   "source": [
    "header = medals.first()\n",
    "\n",
    "medals = resultados_rdd.map(lambda m: [m[2], m[1]]) \\\n",
    "        .filter(lambda x: x[1] != 'NA')\\\n",
    "        .filter(lambda x: x != header)\n",
    "\n",
    "    medals.take(5)"
   ]
  },
  {
   "cell_type": "code",
   "execution_count": 53,
   "id": "marine-system",
   "metadata": {},
   "outputs": [
    {
     "data": {
      "text/plain": [
       "[('94406', 28),\n",
       " ('67046', 18),\n",
       " ('4198', 15),\n",
       " ('11951', 13),\n",
       " ('74420', 13),\n",
       " ('89187', 13),\n",
       " ('109161', 13),\n",
       " ('23426', 12),\n",
       " ('35550', 12),\n",
       " ('57998', 12)]"
      ]
     },
     "execution_count": 53,
     "metadata": {},
     "output_type": "execute_result"
    }
   ],
   "source": [
    "medals_rdd = medals.map(lambda x: [x[0], x[1]]) \\\n",
    "                .groupBy(lambda x: x[0])\\\n",
    "                .mapValues(len) \\\n",
    "                .sortBy(lambda x: -x[1])\n",
    "    \n",
    "medals_rdd.take(10)"
   ]
  },
  {
   "cell_type": "code",
   "execution_count": 123,
   "id": "fundamental-vector",
   "metadata": {},
   "outputs": [
    {
     "data": {
      "text/plain": [
       "[('94406', 'Michael Fred Phelps', 28),\n",
       " ('67046', 'Larysa Semenivna Latynina Diriy ', 18),\n",
       " ('4198', 'Nikolay Yefimovich Andrianov', 15),\n",
       " ('89187', 'Takashi Ono', 13),\n",
       " ('109161', 'Borys Anfiyanovych Shakhlin', 13),\n",
       " ('11951', 'Ole Einar Bjrndalen', 13),\n",
       " ('74420', 'Edoardo Mangiarotti', 13),\n",
       " ('57998', 'Sawao Kato', 12),\n",
       " ('23426', 'Natalie Anne Coughlin Hall ', 12),\n",
       " ('70965', 'Ryan Steven Lochte', 12),\n",
       " ('121258', 'Dara Grace Torres Hoffman Minas ', 12),\n",
       " ('35550', 'Birgit FischerSchmidt', 12),\n",
       " ('85286', 'Aleksey Yuryevich Nemov', 12),\n",
       " ('87390', 'Paavo Johannes Nurmi', 12),\n",
       " ('119922', 'Jennifer Elisabeth Jenny Thompson Cumpelik ', 12),\n",
       " ('11642', 'Matthew Nicholas Matt Biondi', 11),\n",
       " ('21402', 'Viktor Ivanovych Chukarin', 11),\n",
       " ('18826', 'Vra slavsk Odloilov ', 11),\n",
       " ('89706', 'Carl Townsend Osburn', 11),\n",
       " ('113912', 'Mark Andrew Spitz', 11)]"
      ]
     },
     "execution_count": 123,
     "metadata": {},
     "output_type": "execute_result"
    }
   ],
   "source": [
    "deportistas_medallas = deportista_rdd.map(lambda x: x[:2]) \\\n",
    "                        .join(medals_rdd.map(lambda x: [x[0], x[1]])) \\\n",
    "                        .map(lambda x: (x[0], x[1][0], x[1][1])) \\\n",
    "                        .sortBy(lambda x: -x[2])\n",
    "                        \n",
    "            \n",
    "deportistas_medallas.take(20)\n"
   ]
  },
  {
   "cell_type": "markdown",
   "id": "animal-original",
   "metadata": {},
   "source": [
    "### Medallas por pais top 20\n"
   ]
  },
  {
   "cell_type": "code",
   "execution_count": 304,
   "id": "russian-plastic",
   "metadata": {},
   "outputs": [
    {
     "data": {
      "text/plain": [
       "[('USA', 5643),\n",
       " ('URS', 2660),\n",
       " ('GER', 2045),\n",
       " ('GBR', 2045),\n",
       " ('FRA', 1785),\n",
       " ('ITA', 1627),\n",
       " ('SWE', 1537),\n",
       " ('CAN', 1347),\n",
       " ('AUS', 1314),\n",
       " ('HUN', 1131),\n",
       " ('GDR', 1084),\n",
       " ('NED', 1039),\n",
       " ('NOR', 1033),\n",
       " ('RUS', 1003),\n",
       " ('CHN', 991),\n",
       " ('JPN', 913),\n",
       " ('FIN', 900),\n",
       " ('SUI', 690),\n",
       " ('ROU', 658),\n",
       " ('KOR', 642)]"
      ]
     },
     "execution_count": 304,
     "metadata": {},
     "output_type": "execute_result"
    }
   ],
   "source": [
    "deportista_pais_medalla.map(lambda x: [x[1], x[2]]).groupByKey() \\\n",
    "                        .mapValues(len)\\\n",
    "                        .sortBy(lambda x: -x[1])\\\n",
    "                        .take(20)"
   ]
  }
 ],
 "metadata": {
  "kernelspec": {
   "display_name": "Python 3",
   "language": "python",
   "name": "python3"
  },
  "language_info": {
   "codemirror_mode": {
    "name": "ipython",
    "version": 3
   },
   "file_extension": ".py",
   "mimetype": "text/x-python",
   "name": "python",
   "nbconvert_exporter": "python",
   "pygments_lexer": "ipython3",
   "version": "3.7.3"
  }
 },
 "nbformat": 4,
 "nbformat_minor": 5
}
